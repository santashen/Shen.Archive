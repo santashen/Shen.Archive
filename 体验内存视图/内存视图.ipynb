{
 "cells": [
  {
   "cell_type": "markdown",
   "metadata": {},
   "source": [
    "### 体验内存视图\n",
    "https://stackoverflow.com/questions/18655648/what-exactly-is-the-point-of-memoryview-in-python"
   ]
  },
  {
   "cell_type": "markdown",
   "metadata": {},
   "source": [
    "memoryview是一个内置类，可以实现在不复制内容的条件下高效操作同一个数组的不同切片"
   ]
  },
  {
   "cell_type": "code",
   "execution_count": 68,
   "metadata": {},
   "outputs": [
    {
     "name": "stdout",
     "output_type": "stream",
     "text": [
      "0.1373758316040039\n",
      "0.5009992122650146\n",
      "1.2156774997711182\n",
      "2.221696615219116\n"
     ]
    }
   ],
   "source": [
    "import time\n",
    "for n in (100000, 200000, 300000, 400000):\n",
    "    data = b'x'*n\n",
    "    b = data\n",
    "    start = time.time()\n",
    "    while b:\n",
    "        b = b[1:]\n",
    "    end = time.time()\n",
    "    print(end-start)"
   ]
  },
  {
   "cell_type": "code",
   "execution_count": 69,
   "metadata": {},
   "outputs": [
    {
     "name": "stdout",
     "output_type": "stream",
     "text": [
      "0.01299595832824707\n",
      "0.024030685424804688\n",
      "0.03499794006347656\n",
      "0.04696965217590332\n"
     ]
    }
   ],
   "source": [
    "for n in (100000, 200000, 300000, 400000):\n",
    "    data = b'x'*n\n",
    "    start = time.time()\n",
    "    b = memoryview(data)\n",
    "    while b:\n",
    "        b = b[1:]\n",
    "    end = time.time()\n",
    "    print(end-start)"
   ]
  },
  {
   "cell_type": "markdown",
   "metadata": {},
   "source": [
    "#### 一些细节"
   ]
  },
  {
   "cell_type": "markdown",
   "metadata": {},
   "source": [
    "一个python对象的布尔值取决于它的类中`__bool__`方法和`__len__`方法的实现方式. 如果类实现了`__bool__`方法，则这个类的实例的布尔值就是`__bool__`方法的返回值. 如果`__bool__`方法没有实现，则取决于`__len__`方法的返回值."
   ]
  },
  {
   "cell_type": "code",
   "execution_count": 46,
   "metadata": {},
   "outputs": [],
   "source": [
    "class Toy1:\n",
    "    def __bool__(self):\n",
    "        return True\n",
    "    def __len__(self):\n",
    "        return False"
   ]
  },
  {
   "cell_type": "code",
   "execution_count": 47,
   "metadata": {},
   "outputs": [
    {
     "name": "stdout",
     "output_type": "stream",
     "text": [
      "chichi\n"
     ]
    }
   ],
   "source": [
    "if Toy1():\n",
    "    print('chichi')"
   ]
  },
  {
   "cell_type": "code",
   "execution_count": 48,
   "metadata": {},
   "outputs": [],
   "source": [
    "class Toy2:\n",
    "    def __len__(self):\n",
    "        return False"
   ]
  },
  {
   "cell_type": "code",
   "execution_count": 55,
   "metadata": {},
   "outputs": [
    {
     "name": "stdout",
     "output_type": "stream",
     "text": [
      "chichi\n"
     ]
    }
   ],
   "source": [
    "if not Toy2():\n",
    "    print('chichi')"
   ]
  }
 ],
 "metadata": {
  "kernelspec": {
   "display_name": "lab",
   "language": "python",
   "name": "lab"
  },
  "language_info": {
   "codemirror_mode": {
    "name": "ipython",
    "version": 3
   },
   "file_extension": ".py",
   "mimetype": "text/x-python",
   "name": "python",
   "nbconvert_exporter": "python",
   "pygments_lexer": "ipython3",
   "version": "3.8.5"
  }
 },
 "nbformat": 4,
 "nbformat_minor": 4
}
